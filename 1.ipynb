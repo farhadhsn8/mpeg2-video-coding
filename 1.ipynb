{
 "cells": [
  {
   "cell_type": "code",
   "execution_count": 1,
   "metadata": {},
   "outputs": [
    {
     "name": "stdout",
     "output_type": "stream",
     "text": [
      "(150, 144, 176, 3)\n"
     ]
    }
   ],
   "source": [
    "import skvideo as vi\n",
    "import skvideo.io\n",
    "import skvideo.motion\n",
    "import skvideo.measure\n",
    "import skvideo.datasets\n",
    "raw_carphone = vi.io.vread(\"carphone_qcif.y4m\",as_grey=False)\n",
    "raw_suzie = vi.io.vread(\"suzie_qcif.y4m\",as_grey=False)\n",
    "\n",
    "print(raw_suzie.shape)"
   ]
  },
  {
   "cell_type": "code",
   "execution_count": 2,
   "metadata": {},
   "outputs": [],
   "source": [
    "method = \"SE3SS\"\n",
    "M_blocks = [4,8,16]\n"
   ]
  },
  {
   "cell_type": "code",
   "execution_count": 2,
   "metadata": {},
   "outputs": [],
   "source": [
    "import numpy as np\n",
    "\n",
    "\n",
    "def compressor(ref , mb , out_name , method = \"SE3SS\"):\n",
    "    motion = vi.motion.blockMotion(ref , method ,mbSize=mb )\n",
    "    compensate = vi.motion.blockComp(ref , motion ,mbSize=mb)\n",
    "    diff = ref - compensate\n",
    "    vi.io.vwrite(out_name , compensate)\n",
    "    return compensate\n",
    "\n",
    "\n",
    "def quality_assessment(ref , comp):\n",
    "    mse = np.median(skvideo.measure.mse(ref[:,:,:,1] , comp[:,:,:,1]))\n",
    "    psnr = np.median(skvideo.measure.psnr(ref[:,:,:,1] , comp[:,:,:,1]))\n",
    "    ssim = np.median(skvideo.measure.ssim(ref[:,:,:,1] , comp[:,:,:,1]))\n",
    "\n",
    "    return mse , psnr , ssim"
   ]
  },
  {
   "cell_type": "code",
   "execution_count": 4,
   "metadata": {},
   "outputs": [
    {
     "name": "stderr",
     "output_type": "stream",
     "text": [
      "c:\\Users\\Farhad\\anaconda3\\envs\\gputest\\lib\\site-packages\\skvideo\\measure\\psnr.py:55: RuntimeWarning: divide by zero encountered in double_scalars\n",
      "  psnr = 10 * np.log10(maxsq / mse)\n"
     ]
    }
   ],
   "source": [
    "car_qualities = []\n",
    "for b in M_blocks:\n",
    "    comp = compressor(raw_carphone , b , \"car\"+str(b)+\".mp4\")\n",
    "    tmp = quality_assessment(raw_carphone , comp)\n",
    "    car_qualities.append(tmp)"
   ]
  },
  {
   "cell_type": "code",
   "execution_count": 5,
   "metadata": {},
   "outputs": [],
   "source": [
    "suzie_qualities = []\n",
    "for b in M_blocks:\n",
    "    comp = compressor(raw_suzie , b , \"suzie\"+str(b)+\".mp4\")\n",
    "    tmp = quality_assessment(raw_suzie , comp)\n",
    "    suzie_qualities.append(tmp)\n",
    "\n"
   ]
  },
  {
   "cell_type": "code",
   "execution_count": 6,
   "metadata": {},
   "outputs": [],
   "source": [
    "\n",
    "car_qualities = np.array(car_qualities)\n",
    "suzie_qualities = np.array(suzie_qualities)"
   ]
  },
  {
   "cell_type": "code",
   "execution_count": 7,
   "metadata": {},
   "outputs": [
    {
     "data": {
      "text/plain": [
       "array([[1.14531262e+03, 1.75415632e+01, 8.81164670e-01],\n",
       "       [2.15171558e+03, 1.48029550e+01, 8.48773360e-01],\n",
       "       [4.19437402e+03, 1.19041324e+01, 7.71484494e-01]])"
      ]
     },
     "execution_count": 7,
     "metadata": {},
     "output_type": "execute_result"
    }
   ],
   "source": [
    "car_qualities"
   ]
  },
  {
   "cell_type": "code",
   "execution_count": 8,
   "metadata": {},
   "outputs": [
    {
     "data": {
      "text/plain": [
       "array([[8.27428528e+02, 1.89534989e+01, 9.00173008e-01],\n",
       "       [1.51879321e+03, 1.63158193e+01, 8.65517378e-01],\n",
       "       [2.82153857e+03, 1.36259440e+01, 7.80767143e-01]])"
      ]
     },
     "execution_count": 8,
     "metadata": {},
     "output_type": "execute_result"
    }
   ],
   "source": [
    "suzie_qualities"
   ]
  },
  {
   "cell_type": "markdown",
   "metadata": {},
   "source": [
    "## part 2:"
   ]
  },
  {
   "cell_type": "code",
   "execution_count": 9,
   "metadata": {},
   "outputs": [
    {
     "name": "stdout",
     "output_type": "stream",
     "text": [
      "** 18.12318520000008\n",
      "** 30.843062999999802\n",
      "** 19.922163599999976\n",
      "** 32.60986500000013\n",
      "** 9.260458899999776\n"
     ]
    }
   ],
   "source": [
    "import timeit\n",
    "\n",
    "methods = [ \"DS\", \"ES\" , \"3SS\" , \"N3SS\" , \"SE3SS\"   ]\n",
    "\n",
    "SSIMs = []\n",
    "TIMEs = []\n",
    "\n",
    "\n",
    "for m in methods:\n",
    "    start = timeit.default_timer()\n",
    "    comp = compressor(raw_suzie , mb=8 , out_name = m + \".mp4\" , method = m)\n",
    "    stop = timeit.default_timer()\n",
    "    SSIMs.append(quality_assessment(raw_suzie , comp)[2])\n",
    "    TIMEs.append( stop - start)\n",
    "    print(\"**\" , stop - start)"
   ]
  },
  {
   "cell_type": "code",
   "execution_count": 14,
   "metadata": {},
   "outputs": [
    {
     "data": {
      "text/plain": [
       "[0.82710284, 0.86047816, 0.8628992, 0.91876304, 0.8655174]"
      ]
     },
     "execution_count": 14,
     "metadata": {},
     "output_type": "execute_result"
    }
   ],
   "source": [
    "SSIMs"
   ]
  },
  {
   "cell_type": "code",
   "execution_count": 15,
   "metadata": {},
   "outputs": [
    {
     "data": {
      "text/plain": [
       "[18.12318520000008,\n",
       " 30.843062999999802,\n",
       " 19.922163599999976,\n",
       " 32.60986500000013,\n",
       " 9.260458899999776]"
      ]
     },
     "execution_count": 15,
     "metadata": {},
     "output_type": "execute_result"
    }
   ],
   "source": [
    "TIMEs"
   ]
  },
  {
   "cell_type": "code",
   "execution_count": 13,
   "metadata": {},
   "outputs": [
    {
     "data": {
      "image/png": "[encoded data removed]",
      "text/plain": [
       "<Figure size 432x288 with 1 Axes>"
      ]
     },
     "metadata": {
      "needs_background": "light"
     },
     "output_type": "display_data"
    }
   ],
   "source": [
    "import matplotlib.pyplot as plt\n",
    "\n",
    "\n",
    "fig, ax = plt.subplots()\n",
    "ax.scatter(TIMEs, SSIMs, color=\"red\" , marker=\"*\")\n",
    "\n",
    "plt.grid()\n",
    "\n",
    "plt.xlabel(\"time\")\n",
    "plt.ylabel(\"ssim\")\n",
    "\n",
    "for i, txt in enumerate(methods):\n",
    "    ax.annotate(txt, (TIMEs[i], SSIMs[i]),color=\"green\")"
   ]
  },
  {
   "cell_type": "markdown",
   "metadata": {},
   "source": [
    "## part 3:"
   ]
  },
  {
   "cell_type": "code",
   "execution_count": 2,
   "metadata": {},
   "outputs": [
    {
     "name": "stdout",
     "output_type": "stream",
     "text": [
      "(150, 144, 176, 3)\n",
      "(149, 18, 22, 2)\n"
     ]
    }
   ],
   "source": [
    "import skvideo.io\n",
    "import skvideo.motion\n",
    "import skvideo.datasets\n",
    "\n",
    "raw_suzie = skvideo.io.vread(\"suzie_qcif.y4m\",as_grey=False)\n",
    "\n",
    "motion = skvideo.motion.blockMotion(raw_suzie)\n",
    "\n",
    "print(raw_suzie.shape)\n",
    "print(motion.shape)"
   ]
  },
  {
   "cell_type": "code",
   "execution_count": 6,
   "metadata": {},
   "outputs": [
    {
     "data": {
      "text/plain": [
       "array([0, 0], dtype=int8)"
      ]
     },
     "execution_count": 6,
     "metadata": {},
     "output_type": "execute_result"
    }
   ],
   "source": [
    "motion[7,5,18]"
   ]
  },
  {
   "cell_type": "code",
   "execution_count": 7,
   "metadata": {},
   "outputs": [],
   "source": [
    "compmotion = skvideo.motion.blockComp(raw_suzie, motion)"
   ]
  },
  {
   "cell_type": "markdown",
   "metadata": {},
   "source": []
  },
  {
   "cell_type": "code",
   "execution_count": null,
   "metadata": {},
   "outputs": [],
   "source": [
    "import matplotlib.pyplot as plt\n",
    "import numpy as np\n",
    "import scipy.misc\n",
    "from PIL import Image\n",
    "\n",
    "import skvideo.datasets\n",
    "from skimage.transform import resize\n",
    "from skimage import data\n",
    "\n",
    "\n",
    "try:\n",
    "    xrange\n",
    "except NameError:\n",
    "    xrange = range\n",
    "\n",
    "def getPlots(motionData):\n",
    "    motionMagnitude = np.sqrt(np.sum(motionData**2, axis=2))\n",
    "\n",
    "    fig = plt.figure()\n",
    "    plt.quiver(motionData[::-1, :, 0], motionData[::-1, :, 1])\n",
    "    fig.axes[0].get_xaxis().set_visible(False)\n",
    "    fig.axes[0].get_yaxis().set_visible(False)\n",
    "    plt.tight_layout()\n",
    "    fig.canvas.draw()\n",
    " \n",
    "    # Get the RGBA buffer from the figure\n",
    "    w,h = fig.canvas.get_width_height()\n",
    "    buf = np.fromstring(fig.canvas.tostring_argb(), dtype=np.uint8)\n",
    "    buf.shape = (h, w, 4)\n",
    "    quiver = buf[:, :, 1:]\n",
    "    plt.close()\n",
    "\n",
    "    fig = plt.figure()\n",
    "    plt.imshow(motionMagnitude, cmap=\"Greys_r\")\n",
    "    fig.axes[0].get_xaxis().set_visible(False)\n",
    "    fig.axes[0].get_yaxis().set_visible(False)\n",
    "    plt.tight_layout()\n",
    "    fig.canvas.draw()\n",
    "\n",
    "    w,h = fig.canvas.get_width_height()\n",
    "    buf = np.fromstring(fig.canvas.tostring_argb(), dtype=np.uint8)\n",
    "    buf.shape = (h, w, 4)\n",
    "    magnitude = buf[:, :, 1:]\n",
    "    plt.close()\n",
    "\n",
    "    # histogram it\n",
    "    fig = plt.figure()\n",
    "    hist, bins = np.histogram(motionMagnitude, bins=10, range=(-0.5, 9.5))\n",
    "    center = (bins[1:] + bins[:-1])/2.0\n",
    "    plt.scatter(center, hist)\n",
    "    plt.xlabel(\"Motion magnitude\")\n",
    "    plt.ylabel(\"Count\")\n",
    "    plt.ylim([0, 14000])\n",
    "    plt.grid()\n",
    "    plt.tight_layout()\n",
    "    fig.canvas.draw()\n",
    "\n",
    "    w,h = fig.canvas.get_width_height()\n",
    "    buf = np.fromstring(fig.canvas.tostring_argb(), dtype=np.uint8)\n",
    "    buf.shape = (h, w, 4)\n",
    "    histogram = buf[:, :, 1:]\n",
    "    plt.close()\n",
    "\n",
    "    return quiver, magnitude, histogram\n",
    "\n",
    "\n",
    "filename = \"suzie_qcif.y4m\"\n",
    "videodata = skvideo.io.vread(\"suzie_qcif.y4m\",as_grey=False)\n",
    "\n",
    "\n",
    "videometadata = skvideo.io.ffprobe(filename)\n",
    "frame_rate = videometadata['video']['@avg_frame_rate']\n",
    "\n",
    "T, M, N, C = videodata.shape\n",
    "\n",
    "motionData = skvideo.motion.blockMotion(videodata)\n",
    "\n",
    "writer = skvideo.io.FFmpegWriter(\"motion.mp4\", inputdict={\n",
    "    \"-r\": frame_rate\n",
    "})\n",
    "\n",
    "for i in xrange(T-1):\n",
    "    a, b, c = getPlots(motionData[i])\n",
    "    # frame = scipy.misc.imresize(videodata[i+1], (a.shape[0], a.shape[1], 3))\n",
    "\n",
    "    frame =  resize(videodata[i+1], (a.shape[0], a.shape[1], 3))\n",
    "\n",
    "    outputframe = np.zeros((frame.shape[0]*2, frame.shape[1]*2, 3), dtype=np.uint8)\n",
    "\n",
    "    outputframe[:frame.shape[0], :frame.shape[1]] = frame\n",
    "    outputframe[frame.shape[0]:, :frame.shape[1]] = a\n",
    "    outputframe[:frame.shape[0], frame.shape[1]:] = b\n",
    "    outputframe[frame.shape[0]:, frame.shape[1]:] = c\n",
    "\n",
    "    writer.writeFrame(outputframe)\n",
    "\n",
    "writer.close()"
   ]
  }
 ],
 "metadata": {
  "kernelspec": {
   "display_name": "Python 3.9.12 ('gputest')",
   "language": "python",
   "name": "python3"
  },
  "language_info": {
   "codemirror_mode": {
    "name": "ipython",
    "version": 3
   },
   "file_extension": ".py",
   "mimetype": "text/x-python",
   "name": "python",
   "nbconvert_exporter": "python",
   "pygments_lexer": "ipython3",
   "version": "3.9.12"
  },
  "orig_nbformat": 4,
  "vscode": {
   "interpreter": {
    "hash": "f5dc4d0615310792840fb9394143c08d14344a14113ced91958c89536e3c29b5"
   }
  }
 },
 "nbformat": 4,
 "nbformat_minor": 2
}
